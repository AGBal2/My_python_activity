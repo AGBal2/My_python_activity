{
 "cells": [
  {
   "cell_type": "code",
   "execution_count": 1,
   "id": "53df4b1a",
   "metadata": {},
   "outputs": [
    {
     "name": "stdout",
     "output_type": "stream",
     "text": [
      "0               Law Enforcement (123)\n",
      "1      Fire and Rescue Services (224)\n",
      "2    Emergency Medical Services (101)\n",
      "3          Emergency Management (999)\n",
      "4                  Public Works (900)\n",
      "dtype: object\n"
     ]
    }
   ],
   "source": [
    "# Import Pandas lib.\n",
    "import pandas as pd\n",
    "# Create list\n",
    "list_1 = ['Law Enforcement (123)', 'Fire and Rescue Services (224)', \n",
    "          'Emergency Medical Services (101)', \n",
    "          'Emergency Management (999)', 'Public Works (900)']\n",
    "# Name the series\n",
    "emergency_numbers = pd.Series (list_1)\n",
    "# Print the series\n",
    "print (emergency_numbers)"
   ]
  },
  {
   "cell_type": "code",
   "execution_count": 2,
   "id": "61eced16",
   "metadata": {},
   "outputs": [
    {
     "name": "stdout",
     "output_type": "stream",
     "text": [
      "123               Law Enforcement\n",
      "224      Fire and Rescue Services\n",
      "101    Emergency Medical Services\n",
      "999          Emergency Management\n",
      "900                  Public Works\n",
      "dtype: object\n"
     ]
    }
   ],
   "source": [
    "# Create dictionary\n",
    "dict_1 = {'123':'Law Enforcement', \n",
    "          '224':'Fire and Rescue Services', \n",
    "           '101':'Emergency Medical Services', \n",
    "           '999':'Emergency Management', \n",
    "           '900':'Public Works'}\n",
    "# Name the series\n",
    "emergency_numbers = pd.Series (dict_1)\n",
    "# Print the series\n",
    "print (emergency_numbers)"
   ]
  },
  {
   "cell_type": "code",
   "execution_count": 7,
   "id": "5ea08250",
   "metadata": {},
   "outputs": [
    {
     "name": "stdout",
     "output_type": "stream",
     "text": [
      "0      Prevention\n",
      "1      mitigation\n",
      "2    preparedness\n",
      "3        response\n",
      "4        recovery\n",
      "dtype: object\n"
     ]
    }
   ],
   "source": [
    "# Create list\n",
    "list_2 = ['Prevention', 'mitigation', 'preparedness', \n",
    "          'response', 'recovery']\n",
    "          \n",
    "# Name the series\n",
    "emergency_protocols = pd.Series (list_2)\n",
    "# Print the series\n",
    "print (emergency_protocols)"
   ]
  },
  {
   "cell_type": "code",
   "execution_count": 8,
   "id": "1ab5dbb0",
   "metadata": {},
   "outputs": [
    {
     "name": "stdout",
     "output_type": "stream",
     "text": [
      "1      Prevention\n",
      "2      mitigation\n",
      "3    preparedness\n",
      "4        response\n",
      "5        recovery\n",
      "dtype: object\n"
     ]
    }
   ],
   "source": [
    "# Create series\n",
    "emergency_protocols = pd.Series (['Prevention', 'mitigation', \n",
    "                                  'preparedness', 'response', 'recovery'],\n",
    "                                 index = [1,2,3,4,5])\n",
    "# Print the series\n",
    "print (emergency_protocols)"
   ]
  },
  {
   "cell_type": "code",
   "execution_count": 10,
   "id": "ea55117a",
   "metadata": {},
   "outputs": [
    {
     "name": "stdout",
     "output_type": "stream",
     "text": [
      "0          Check carotid pulse (neck)\n",
      "1                    breathing (nose)\n",
      "2    obstructions (nose, ears, mouth)\n",
      "3                 pupils (responsive)\n",
      "4        consciousnesscontact details\n",
      "5                           allergies\n",
      "dtype: object\n"
     ]
    }
   ],
   "source": [
    "# Create list\n",
    "list_3 = ['Check carotid pulse (neck)', 'breathing (nose)', \n",
    "          'obstructions (nose, ears, mouth)', \n",
    "          'pupils (responsive)', 'consciousness'\n",
    "         'contact details', 'allergies']\n",
    "          \n",
    "# Name the series\n",
    "Emergency_checklist = pd.Series (list_3)\n",
    "# Print the series\n",
    "print (Emergency_checklist)"
   ]
  },
  {
   "cell_type": "code",
   "execution_count": null,
   "id": "bc24fdcc",
   "metadata": {},
   "outputs": [],
   "source": []
  }
 ],
 "metadata": {
  "kernelspec": {
   "display_name": "Python 3 (ipykernel)",
   "language": "python",
   "name": "python3"
  },
  "language_info": {
   "codemirror_mode": {
    "name": "ipython",
    "version": 3
   },
   "file_extension": ".py",
   "mimetype": "text/x-python",
   "name": "python",
   "nbconvert_exporter": "python",
   "pygments_lexer": "ipython3",
   "version": "3.9.12"
  }
 },
 "nbformat": 4,
 "nbformat_minor": 5
}
