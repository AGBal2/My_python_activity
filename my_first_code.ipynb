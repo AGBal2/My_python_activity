{
 "cells": [
  {
   "cell_type": "code",
   "execution_count": 6,
   "id": "c3e38f26",
   "metadata": {},
   "outputs": [
    {
     "name": "stdout",
     "output_type": "stream",
     "text": [
      "I go by Abdoul\n",
      "Date is Jan. 12.2023\n"
     ]
    }
   ],
   "source": [
    "#this is my first line of code\n",
    "print('I go by Abdoul')\n",
    "print('Date is Jan. 12.2023')"
   ]
  },
  {
   "cell_type": "code",
   "execution_count": 11,
   "id": "4e222e72",
   "metadata": {},
   "outputs": [
    {
     "name": "stdout",
     "output_type": "stream",
     "text": [
      "182900\n"
     ]
    }
   ],
   "source": [
    "#Write a program to analyse real estate data\n",
    "a = 45000\n",
    "b = 23400\n",
    "c = 67000\n",
    "d = 34600\n",
    "e = 12900\n",
    "\n",
    "total_sale = a+b+c+d+e\n",
    "\n",
    "print(total_sale)"
   ]
  },
  {
   "cell_type": "code",
   "execution_count": 12,
   "id": "56d503c6",
   "metadata": {},
   "outputs": [
    {
     "name": "stdout",
     "output_type": "stream",
     "text": [
      "36580.0\n"
     ]
    }
   ],
   "source": [
    "average_sale = total_sale / 5\n",
    "\n",
    "print(average_sale)"
   ]
  },
  {
   "cell_type": "code",
   "execution_count": 13,
   "id": "098f3791",
   "metadata": {},
   "outputs": [
    {
     "name": "stdout",
     "output_type": "stream",
     "text": [
      "60500\n"
     ]
    }
   ],
   "source": [
    "#determine the missing value x\n",
    "\n",
    "x = 67000-6500\n",
    "print(x)"
   ]
  },
  {
   "cell_type": "code",
   "execution_count": null,
   "id": "f0bba329",
   "metadata": {},
   "outputs": [],
   "source": []
  }
 ],
 "metadata": {
  "kernelspec": {
   "display_name": "Python 3 (ipykernel)",
   "language": "python",
   "name": "python3"
  },
  "language_info": {
   "codemirror_mode": {
    "name": "ipython",
    "version": 3
   },
   "file_extension": ".py",
   "mimetype": "text/x-python",
   "name": "python",
   "nbconvert_exporter": "python",
   "pygments_lexer": "ipython3",
   "version": "3.9.12"
  }
 },
 "nbformat": 4,
 "nbformat_minor": 5
}
